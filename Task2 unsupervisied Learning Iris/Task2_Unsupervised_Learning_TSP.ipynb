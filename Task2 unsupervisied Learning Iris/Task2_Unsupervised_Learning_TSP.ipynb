{
  "nbformat": 4,
  "nbformat_minor": 0,
  "metadata": {
    "colab": {
      "name": "Task2_Unsupervised_Learning_TSP.ipynb",
      "provenance": [],
      "collapsed_sections": []
    },
    "kernelspec": {
      "name": "python3",
      "display_name": "Python 3"
    },
    "language_info": {
      "name": "python"
    }
  },
  "cells": [
    {
      "cell_type": "markdown",
      "metadata": {
        "id": "iGlsj5aTm04q"
      },
      "source": [
        "# **The Sparks Foundation GRIP AUGUST 2021**\n",
        "Name : Raj Shivprakash Poonam Jaiswal\n",
        "\n",
        "Task : Unsupervised Learning (Iris Dataset) Task 2"
      ]
    },
    {
      "cell_type": "markdown",
      "metadata": {
        "id": "OwXGRjBRsbSA"
      },
      "source": [
        "\n",
        "### ***Dataset Information***\n",
        "The data set contains 3 classes of 50 instances each, where each class refers to a type of iris plant. One class is linearly separable from the other 2; the latter are NOT linearly separable from each other.\n",
        "\n",
        "Attribute Information:\n",
        "\n",
        "\n",
        "1.   sepal length in cm\n",
        "2.   sepal width in cm\n",
        "3.   petal length in cm\n",
        "4.   petal width in cm\n",
        "5.   class: -- Iris Setosa -- Iris Versicolour -- Iris Virginica\n",
        "\n",
        "\n"
      ]
    },
    {
      "cell_type": "markdown",
      "metadata": {
        "id": "Y5lKqL3PqiX4"
      },
      "source": [
        "***Importing Python Libraries***"
      ]
    },
    {
      "cell_type": "code",
      "metadata": {
        "id": "mkFfWo-Fnzb6"
      },
      "source": [
        "import numpy as np\n",
        "import pandas as pd\n",
        "from matplotlib import pyplot as plt\n",
        "from sklearn.preprocessing import LabelEncoder\n",
        "from sklearn.neighbors import KNeighborsClassifier\n",
        "from sklearn.model_selection import train_test_split"
      ],
      "execution_count": 72,
      "outputs": []
    },
    {
      "cell_type": "markdown",
      "metadata": {
        "id": "JX2Mu4xOqsR4"
      },
      "source": [
        "***Importing Dataset***"
      ]
    },
    {
      "cell_type": "code",
      "metadata": {
        "id": "3u-oN2EKnRrX",
        "colab": {
          "base_uri": "https://localhost:8080/"
        },
        "outputId": "2f5c7fff-c47f-4619-ddb1-9031ae5eed01"
      },
      "source": [
        "Iris_dataset = pd.read_csv('/content/Iris.csv')\n",
        "\n",
        "X = Iris_dataset.iloc[:,1:5].values\n",
        "y = Iris_dataset.iloc[:,-1].values\n",
        "\n",
        "print('Data Imported Successfully')\n"
      ],
      "execution_count": 51,
      "outputs": [
        {
          "output_type": "stream",
          "text": [
            "Data Imported Successfully\n"
          ],
          "name": "stdout"
        }
      ]
    },
    {
      "cell_type": "code",
      "metadata": {
        "id": "RSSFBYiaZtFW"
      },
      "source": [
        "print(X)"
      ],
      "execution_count": null,
      "outputs": []
    },
    {
      "cell_type": "code",
      "metadata": {
        "id": "3gS9E7zRZv3e"
      },
      "source": [
        "print(y)"
      ],
      "execution_count": null,
      "outputs": []
    },
    {
      "cell_type": "markdown",
      "metadata": {
        "id": "JO25zWKeY9zQ"
      },
      "source": [
        "***Dataset Information***"
      ]
    },
    {
      "cell_type": "code",
      "metadata": {
        "colab": {
          "base_uri": "https://localhost:8080/"
        },
        "id": "dzUkQDr0ZFDx",
        "outputId": "46aca83f-13dd-40a2-c381-9f1e47314f4d"
      },
      "source": [
        "Iris_dataset.shape"
      ],
      "execution_count": 54,
      "outputs": [
        {
          "output_type": "execute_result",
          "data": {
            "text/plain": [
              "(150, 6)"
            ]
          },
          "metadata": {
            "tags": []
          },
          "execution_count": 54
        }
      ]
    },
    {
      "cell_type": "code",
      "metadata": {
        "id": "L1izl0v8ZcNR"
      },
      "source": [
        "Iris_dataset.describe()"
      ],
      "execution_count": null,
      "outputs": []
    },
    {
      "cell_type": "code",
      "metadata": {
        "id": "2ExrQ8v9ZkNw"
      },
      "source": [
        "Iris_dataset.info()"
      ],
      "execution_count": null,
      "outputs": []
    },
    {
      "cell_type": "code",
      "metadata": {
        "id": "L2ebRVxzaD5p"
      },
      "source": [
        "# to display no. of samples on each class\n",
        "Iris_dataset['Species'].value_counts()"
      ],
      "execution_count": null,
      "outputs": []
    },
    {
      "cell_type": "markdown",
      "metadata": {
        "id": "RHQmeGLWZ6Wp"
      },
      "source": [
        "***Dataset Visualisation***"
      ]
    },
    {
      "cell_type": "code",
      "metadata": {
        "id": "N9m3Y_tRZ--Z"
      },
      "source": [
        "\n",
        "# scatterplot\n",
        "colors = ['red', 'orange', 'blue']\n",
        "species = ['Iris-virginica','Iris-versicolor','Iris-setosa']"
      ],
      "execution_count": 58,
      "outputs": []
    },
    {
      "cell_type": "markdown",
      "metadata": {
        "id": "f_6Ar5mrjAO4"
      },
      "source": [
        "***Sepal Length vs Sepal width***"
      ]
    },
    {
      "cell_type": "code",
      "metadata": {
        "id": "MN_tXlWnhWle"
      },
      "source": [
        "plt.figure (figsize = (12,6))\n",
        "\n",
        "for i in range(3):\n",
        "    x = Iris_dataset[Iris_dataset['Species'] == species[i]]\n",
        "    plt.scatter(x['SepalLengthCm'], x['SepalWidthCm'], c = colors[i], label=species[i])\n",
        "plt.xlabel(\"Sepal Length\" , fontsize = 12)\n",
        "plt.ylabel(\"Sepal Width\", fontsize = 12)\n",
        "plt.legend()\n",
        "plt.title('Sepal Length vs Sepal width' , fontsize = 20)\n",
        "plt.show()"
      ],
      "execution_count": null,
      "outputs": []
    },
    {
      "cell_type": "markdown",
      "metadata": {
        "id": "AV0wUTm-jIN3"
      },
      "source": [
        "***Petal Length vs Petal Width***"
      ]
    },
    {
      "cell_type": "code",
      "metadata": {
        "id": "t49WFJ4AiPeg"
      },
      "source": [
        "plt.figure (figsize = (12,6))\n",
        "\n",
        "for i in range(3):\n",
        "    x = Iris_dataset[Iris_dataset['Species'] == species[i]]\n",
        "    plt.scatter(x['PetalLengthCm'], x['PetalWidthCm'], c = colors[i], label=species[i])\n",
        "plt.xlabel(\"Petal Length\" , fontsize = 12)\n",
        "plt.ylabel(\"Petal Width\", fontsize = 12)\n",
        "plt.legend()\n",
        "plt.title('Petal Length vs Petal Width' , fontsize = 20)\n",
        "plt.show()"
      ],
      "execution_count": null,
      "outputs": []
    },
    {
      "cell_type": "markdown",
      "metadata": {
        "id": "17RmukvMjZuf"
      },
      "source": [
        "***Sepal Length vs Petal Width***"
      ]
    },
    {
      "cell_type": "code",
      "metadata": {
        "id": "KedKqH79id15"
      },
      "source": [
        "plt.figure (figsize = (12,6))\n",
        "\n",
        "for i in range(3):\n",
        "    x = Iris_dataset[Iris_dataset['Species'] == species[i]]\n",
        "    plt.scatter(x['SepalLengthCm'], x['PetalWidthCm'], c = colors[i], label=species[i])\n",
        "plt.xlabel(\"Sepal Length\" , fontsize = 12)\n",
        "plt.ylabel(\"Petal Width\", fontsize = 12)\n",
        "plt.legend()\n",
        "plt.title('Sepal Length vs Petal Width' , fontsize = 20)\n",
        "plt.show()"
      ],
      "execution_count": null,
      "outputs": []
    },
    {
      "cell_type": "markdown",
      "metadata": {
        "id": "mcbePi6UjQWg"
      },
      "source": [
        "***Sepal Width vs Petal Width***"
      ]
    },
    {
      "cell_type": "code",
      "metadata": {
        "id": "dtJg7l_RisVI"
      },
      "source": [
        "plt.figure (figsize = (12,6))\n",
        "\n",
        "for i in range(3):\n",
        "    x = Iris_dataset[Iris_dataset['Species'] == species[i]]\n",
        "    plt.scatter(x['SepalWidthCm'], x['PetalWidthCm'], c = colors[i], label=species[i])\n",
        "plt.xlabel(\"Sepal Width\" , fontsize = 12)\n",
        "plt.ylabel(\"Petal Width\", fontsize = 12)\n",
        "plt.legend()\n",
        "plt.title('Sepal Width vs Petal Width' , fontsize = 20)\n",
        "plt.show()"
      ],
      "execution_count": null,
      "outputs": []
    },
    {
      "cell_type": "markdown",
      "metadata": {
        "id": "K3MfxYgKkSIw"
      },
      "source": [
        "\n",
        "***Coorelation Matrix***\n",
        "\n",
        "A correlation matrix is a table showing correlation coefficients between variables. Each cell in the table shows the correlation between two variables. The value is in the range of -1 to 1. If two varibles have high correlation, we can neglect one variable from those two."
      ]
    },
    {
      "cell_type": "code",
      "metadata": {
        "id": "tLTMBOq8kwAz"
      },
      "source": [
        "Iris_dataset_cf = Iris_dataset.corr()\n",
        "print(Iris_dataset_cf)\n",
        "print('Coorelation Matrix Between Features')"
      ],
      "execution_count": null,
      "outputs": []
    },
    {
      "cell_type": "markdown",
      "metadata": {
        "id": "mP3C59UMlbp4"
      },
      "source": [
        "\n",
        "***Label Encoder***\n",
        "\n",
        "In machine learning, we usually deal with datasets which contains multiple labels in one or more than one columns. These labels can be in the form of words or numbers. Label Encoding refers to converting the labels into numeric form so as to convert it into the machine-readable form"
      ]
    },
    {
      "cell_type": "code",
      "metadata": {
        "id": "Og0P4LoRlfqH"
      },
      "source": [
        "le = LabelEncoder()\n",
        "\n",
        "Iris_dataset['Species'] = le.fit_transform(Iris_dataset['Species'])\n",
        "Iris_dataset\n"
      ],
      "execution_count": null,
      "outputs": []
    },
    {
      "cell_type": "markdown",
      "metadata": {
        "id": "1SUWfhBGq0uC"
      },
      "source": [
        "***Split the dataset into Training and Testing Model Set***"
      ]
    },
    {
      "cell_type": "code",
      "metadata": {
        "colab": {
          "base_uri": "https://localhost:8080/"
        },
        "id": "axToGR7OpEkX",
        "outputId": "89d0cda1-c124-4fca-a456-58af091e40a4"
      },
      "source": [
        " from sklearn.model_selection import train_test_split\n",
        "\n",
        " X_train , X_test  ,  y_train  , y_test  = train_test_split(X , y , test_size = 0.3 , random_state = 0 )\n",
        "\n",
        " print('Splitting of Data Successfuly Complete')"
      ],
      "execution_count": 68,
      "outputs": [
        {
          "output_type": "stream",
          "text": [
            "Splitting of Data Successfuly Complete\n"
          ],
          "name": "stdout"
        }
      ]
    },
    {
      "cell_type": "markdown",
      "metadata": {
        "id": "_yj05c9sn-zP"
      },
      "source": [
        "***KNearest Neighbour ( Training Algorithm )***"
      ]
    },
    {
      "cell_type": "code",
      "metadata": {
        "colab": {
          "base_uri": "https://localhost:8080/"
        },
        "id": "40HSeSIJotoN",
        "outputId": "7c540791-e9c9-4ee5-ffcf-a4a198992bf3"
      },
      "source": [
        "model = KNeighborsClassifier()\n",
        "model.fit(X_train, y_train)\n"
      ],
      "execution_count": 76,
      "outputs": [
        {
          "output_type": "execute_result",
          "data": {
            "text/plain": [
              "KNeighborsClassifier(algorithm='auto', leaf_size=30, metric='minkowski',\n",
              "                     metric_params=None, n_jobs=None, n_neighbors=5, p=2,\n",
              "                     weights='uniform')"
            ]
          },
          "metadata": {
            "tags": []
          },
          "execution_count": 76
        }
      ]
    },
    {
      "cell_type": "code",
      "metadata": {
        "colab": {
          "base_uri": "https://localhost:8080/"
        },
        "id": "PHKYF1gopbpT",
        "outputId": "44be9441-3dbf-4da4-ab2f-9742b15fed17"
      },
      "source": [
        "# print metric to get performance\n",
        "print(\"Accuracy: \",model.score(X_test, y_test) * 100)"
      ],
      "execution_count": 77,
      "outputs": [
        {
          "output_type": "stream",
          "text": [
            "Accuracy:  97.77777777777777\n"
          ],
          "name": "stdout"
        }
      ]
    },
    {
      "cell_type": "code",
      "metadata": {
        "id": "bdT-DwqWppfm"
      },
      "source": [
        ""
      ],
      "execution_count": null,
      "outputs": []
    }
  ]
}