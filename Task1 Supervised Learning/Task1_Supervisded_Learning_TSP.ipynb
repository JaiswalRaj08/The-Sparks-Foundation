{
  "nbformat": 4,
  "nbformat_minor": 0,
  "metadata": {
    "colab": {
      "name": "Task1_Supervisded_Learning_TSP.ipynb",
      "provenance": [],
      "collapsed_sections": []
    },
    "kernelspec": {
      "name": "python3",
      "display_name": "Python 3"
    },
    "language_info": {
      "name": "python"
    }
  },
  "cells": [
    {
      "cell_type": "markdown",
      "metadata": {
        "id": "8wx55Xsu-Znn"
      },
      "source": [
        "## **The Sparks Foundation GRIP AUGUST 2021**\n",
        "\n",
        "Name : Raj Shivprakash Poonam Jaiswal\n",
        "\n",
        "Task : Supervised Learning ( Task 1 )"
      ]
    },
    {
      "cell_type": "markdown",
      "metadata": {
        "id": "Itk9uG-s-JTo"
      },
      "source": [
        "***Import Python Libraries***"
      ]
    },
    {
      "cell_type": "code",
      "metadata": {
        "id": "oiH6v28D-Pbg"
      },
      "source": [
        "import numpy as np\n",
        "import pandas as pd\n",
        "from matplotlib import pyplot as plt\n",
        "from sklearn.model_selection import train_test_split\n",
        "from  sklearn.linear_model import LinearRegression"
      ],
      "execution_count": null,
      "outputs": []
    },
    {
      "cell_type": "markdown",
      "metadata": {
        "id": "rxHMJJCj_enB"
      },
      "source": [
        "***Import dataset***"
      ]
    },
    {
      "cell_type": "code",
      "metadata": {
        "colab": {
          "base_uri": "https://localhost:8080/"
        },
        "id": "UZztz0to_igg",
        "outputId": "276fe52a-4f64-4092-bbc6-d98649ceba21"
      },
      "source": [
        "dataset_url = 'https://raw.githubusercontent.com/AdiPersonalWorks/Random/master/student_scores%20-%20student_scores.csv'\n",
        "\n",
        "student_study_data = pd.read_csv(dataset_url)\n",
        "\n",
        "print('Dataset Imported Successfully')"
      ],
      "execution_count": null,
      "outputs": [
        {
          "output_type": "stream",
          "text": [
            "Dataset Imported Successfully\n"
          ],
          "name": "stdout"
        }
      ]
    },
    {
      "cell_type": "markdown",
      "metadata": {
        "id": "hqy_ZZBHCe6Q"
      },
      "source": [
        "***View Dataset***"
      ]
    },
    {
      "cell_type": "code",
      "metadata": {
        "id": "PV58VkvFDGL3"
      },
      "source": [
        "student_study_data\n"
      ],
      "execution_count": null,
      "outputs": []
    },
    {
      "cell_type": "markdown",
      "metadata": {
        "id": "a8xHxIQOR3Zm"
      },
      "source": [
        "***Visualise the Dataset***"
      ]
    },
    {
      "cell_type": "code",
      "metadata": {
        "id": "z_ZpFaWUR74F"
      },
      "source": [
        "plt.figure(figsize = (12,6))\n",
        "\n",
        "plt.scatter(X,y , c = 'blue' , marker = 'o'  , s = 55 , alpha = 0.6 ,edgecolors  = \"black\")\n",
        "\n",
        " \n",
        "plt.axis([0,12,0,100])\n",
        "plt.title(' Predicting Scores ' ,fontsize =20)\n",
        "plt.xlabel('Hours Studied' ,fontsize =12)\n",
        "plt.ylabel('Percentage Scored' , fontsize=12)\n",
        "plt.legend(['Hours vs Scores'] ,loc = 2 ,fontsize =12)\n",
        "plt.show()\n"
      ],
      "execution_count": null,
      "outputs": []
    },
    {
      "cell_type": "markdown",
      "metadata": {
        "id": "wlqoWNbE_-ew"
      },
      "source": [
        "***Assign the feature ( Independant variable ) and label ( Dependant Variable ) to variables X and y .***"
      ]
    },
    {
      "cell_type": "code",
      "metadata": {
        "id": "A_61ujvg_9Wl"
      },
      "source": [
        "X = student_study_data.iloc[:, :-1].values  \n",
        "y = student_study_data.iloc[:, 1].values"
      ],
      "execution_count": null,
      "outputs": []
    },
    {
      "cell_type": "markdown",
      "metadata": {
        "id": "_SVcOXUbIXfo"
      },
      "source": [
        "***View Variables X and y***"
      ]
    },
    {
      "cell_type": "code",
      "metadata": {
        "id": "t5pinygcIdZf"
      },
      "source": [
        "X"
      ],
      "execution_count": null,
      "outputs": []
    },
    {
      "cell_type": "code",
      "metadata": {
        "id": "t6SqHzTQIhQn"
      },
      "source": [
        "y"
      ],
      "execution_count": null,
      "outputs": []
    },
    {
      "cell_type": "markdown",
      "metadata": {
        "id": "B5dRDVX0DYNH"
      },
      "source": [
        "***Split the dataset into Training and Testing  Model Set***"
      ]
    },
    {
      "cell_type": "code",
      "metadata": {
        "colab": {
          "base_uri": "https://localhost:8080/"
        },
        "id": "rgiiTjKUDgtv",
        "outputId": "4a2bb0af-6004-4f43-fe41-45e4f4b0e3c6"
      },
      "source": [
        " from sklearn.model_selection import train_test_split\n",
        "\n",
        " X_train , X_test  ,  y_train  , y_test  = train_test_split(X , y , test_size = 0.2 , random_state = 0 )\n",
        "\n",
        " print('Splitting of Data Successfuly Complete')\n"
      ],
      "execution_count": null,
      "outputs": [
        {
          "output_type": "stream",
          "text": [
            "Splitting of Data Successfuly Complete\n"
          ],
          "name": "stdout"
        }
      ]
    },
    {
      "cell_type": "markdown",
      "metadata": {
        "id": "N0CmAJmMFIgI"
      },
      "source": [
        "***View Training Set***"
      ]
    },
    {
      "cell_type": "code",
      "metadata": {
        "id": "2prBVSyLFqVl"
      },
      "source": [
        "X_train"
      ],
      "execution_count": null,
      "outputs": []
    },
    {
      "cell_type": "code",
      "metadata": {
        "id": "U0SRZUPNHVTU"
      },
      "source": [
        "y_train"
      ],
      "execution_count": null,
      "outputs": []
    },
    {
      "cell_type": "markdown",
      "metadata": {
        "id": "sBIwyGU2IMTo"
      },
      "source": [
        "***View Test Set***"
      ]
    },
    {
      "cell_type": "code",
      "metadata": {
        "id": "Y4fquxdoHpsV"
      },
      "source": [
        "X_test"
      ],
      "execution_count": null,
      "outputs": []
    },
    {
      "cell_type": "code",
      "metadata": {
        "id": "X1yJXUs6IQtd"
      },
      "source": [
        "y_test"
      ],
      "execution_count": null,
      "outputs": []
    },
    {
      "cell_type": "markdown",
      "metadata": {
        "id": "VxKu3RRpIlyP"
      },
      "source": [
        "***Train the model / Algorithm***"
      ]
    },
    {
      "cell_type": "code",
      "metadata": {
        "colab": {
          "base_uri": "https://localhost:8080/"
        },
        "id": "tqEDgfZoItRE",
        "outputId": "e6f89c2e-c241-44ef-b6a6-0e4f843d719e"
      },
      "source": [
        "from sklearn.linear_model import LinearRegression  \n",
        "regressor = LinearRegression()  \n",
        "regressor.fit(X_train, y_train) \n",
        "\n",
        "print(\"Training complete.\")"
      ],
      "execution_count": null,
      "outputs": [
        {
          "output_type": "stream",
          "text": [
            "Training complete.\n"
          ],
          "name": "stdout"
        }
      ]
    },
    {
      "cell_type": "markdown",
      "metadata": {
        "id": "60YymxVnQi0e"
      },
      "source": [
        "***Predict the Scores ( Dependant) using Hours ( Independant ) from y_test and X_test***"
      ]
    },
    {
      "cell_type": "code",
      "metadata": {
        "id": "NjRuPVGdQza6"
      },
      "source": [
        "y_pred = regressor.predict(X_test) # Predicting the scores"
      ],
      "execution_count": null,
      "outputs": []
    },
    {
      "cell_type": "code",
      "metadata": {
        "colab": {
          "base_uri": "https://localhost:8080/",
          "height": 204
        },
        "id": "5IGMbzMvRD_U",
        "outputId": "15218022-1818-45af-db86-8b7649e26d2c"
      },
      "source": [
        "# Comparing Actual Scores  vs Predicted Scores\n",
        "Act_vs_pd = pd.DataFrame({'Actual': y_test, 'Predicted': y_pred})  \n",
        "Act_vs_pd"
      ],
      "execution_count": null,
      "outputs": [
        {
          "output_type": "execute_result",
          "data": {
            "text/html": [
              "<div>\n",
              "<style scoped>\n",
              "    .dataframe tbody tr th:only-of-type {\n",
              "        vertical-align: middle;\n",
              "    }\n",
              "\n",
              "    .dataframe tbody tr th {\n",
              "        vertical-align: top;\n",
              "    }\n",
              "\n",
              "    .dataframe thead th {\n",
              "        text-align: right;\n",
              "    }\n",
              "</style>\n",
              "<table border=\"1\" class=\"dataframe\">\n",
              "  <thead>\n",
              "    <tr style=\"text-align: right;\">\n",
              "      <th></th>\n",
              "      <th>Actual</th>\n",
              "      <th>Predicted</th>\n",
              "    </tr>\n",
              "  </thead>\n",
              "  <tbody>\n",
              "    <tr>\n",
              "      <th>0</th>\n",
              "      <td>20</td>\n",
              "      <td>16.884145</td>\n",
              "    </tr>\n",
              "    <tr>\n",
              "      <th>1</th>\n",
              "      <td>27</td>\n",
              "      <td>33.732261</td>\n",
              "    </tr>\n",
              "    <tr>\n",
              "      <th>2</th>\n",
              "      <td>69</td>\n",
              "      <td>75.357018</td>\n",
              "    </tr>\n",
              "    <tr>\n",
              "      <th>3</th>\n",
              "      <td>30</td>\n",
              "      <td>26.794801</td>\n",
              "    </tr>\n",
              "    <tr>\n",
              "      <th>4</th>\n",
              "      <td>62</td>\n",
              "      <td>60.491033</td>\n",
              "    </tr>\n",
              "  </tbody>\n",
              "</table>\n",
              "</div>"
            ],
            "text/plain": [
              "   Actual  Predicted\n",
              "0      20  16.884145\n",
              "1      27  33.732261\n",
              "2      69  75.357018\n",
              "3      30  26.794801\n",
              "4      62  60.491033"
            ]
          },
          "metadata": {
            "tags": []
          },
          "execution_count": 103
        }
      ]
    },
    {
      "cell_type": "markdown",
      "metadata": {
        "id": "g0QFt5juRdjW"
      },
      "source": [
        "***Predict own Scores***"
      ]
    },
    {
      "cell_type": "code",
      "metadata": {
        "colab": {
          "base_uri": "https://localhost:8080/"
        },
        "id": "Vudl2U0YRgwc",
        "outputId": "90dfe801-58a9-4e08-adae-200e8b7e78fa"
      },
      "source": [
        "# You can also test with your own data\n",
        "hours = 9.25\n",
        "own_pred = regressor.predict([[hours]])\n",
        "print(\"No of Hours = {}\".format(hours))\n",
        "print(\"Predicted Score = {}\".format(own_pred[0]))"
      ],
      "execution_count": null,
      "outputs": [
        {
          "output_type": "stream",
          "text": [
            "No of Hours = 9.25\n",
            "Predicted Score = 93.69173248737539\n"
          ],
          "name": "stdout"
        }
      ]
    },
    {
      "cell_type": "markdown",
      "metadata": {
        "id": "kDg3e6rSRsh3"
      },
      "source": [
        "***Mean Absolute Error***"
      ]
    },
    {
      "cell_type": "code",
      "metadata": {
        "colab": {
          "base_uri": "https://localhost:8080/"
        },
        "id": "Flv29Z7nUrRG",
        "outputId": "162b81ad-3516-43db-a797-8ecc84710d14"
      },
      "source": [
        "from sklearn import metrics\n",
        "print('Mean Absolute Error:', metrics.mean_absolute_error(y_test, y_pred))\n",
        "\n",
        "print('------------------------------------------------------------------------------------')\n",
        "print('Mean Squared Error:', metrics.mean_squared_error(y_test, y_pred))\n",
        "print('Root Mean Squared Error:', np.sqrt(metrics.mean_squared_error(y_test, y_pred)))"
      ],
      "execution_count": null,
      "outputs": [
        {
          "output_type": "stream",
          "text": [
            "Mean Absolute Error: 4.183859899002982\n",
            "------------------------------------------------------------------------------------\n",
            "Mean Squared Error: 21.598769307217456\n",
            "Root Mean Squared Error: 4.647447612100373\n"
          ],
          "name": "stdout"
        }
      ]
    },
    {
      "cell_type": "markdown",
      "metadata": {
        "id": "DPbTUaHYVAoW"
      },
      "source": [
        "***Plotting the Regression line***"
      ]
    },
    {
      "cell_type": "code",
      "metadata": {
        "colab": {
          "base_uri": "https://localhost:8080/",
          "height": 412
        },
        "id": "wfDJY7SrUw_8",
        "outputId": "18850ae0-7f17-4f25-bc5b-41043451c398"
      },
      "source": [
        "\n",
        "plt.figure(figsize = (12,6))\n",
        "\n",
        "plt.scatter(X,y , c = 'blue' , marker = 'o'  , s = 55 , alpha = 0.6 ,edgecolors  = \"black\")\n",
        "\n",
        "# plt.plot(x, m*x + b)\n",
        "line = regressor.coef_*X+regressor.intercept_\n",
        "plt.plot(X, line)\n",
        "\n",
        "\n",
        "plt.axis([0,12,0,100])\n",
        "plt.title(' Predicting Scores ' ,fontsize =20)\n",
        "plt.xlabel('Hours Studied' ,fontsize =12 )\n",
        "plt.ylabel('Percentage Scored' , fontsize=12)\n",
        "plt.legend(['Hours vs Scores Predicted Regression line '] ,loc = 2 ,fontsize =12)\n",
        "\n",
        "plt.show()"
      ],
      "execution_count": null,
      "outputs": [
        {
          "output_type": "display_data",
          "data": {
            "image/png": "[encoded data removed]",
            "text/plain": [
              "<Figure size 864x432 with 1 Axes>"
            ]
          },
          "metadata": {
            "tags": [],
            "needs_background": "light"
          }
        }
      ]
    },
    {
      "cell_type": "code",
      "metadata": {
        "colab": {
          "base_uri": "https://localhost:8080/"
        },
        "id": "UFRwOA1rW5Yx",
        "outputId": "b7517124-ea5f-4e77-83e2-60dca8cb3f9b"
      },
      "source": [
        "print('Here is the First task of Supervised learning is Completed')\n",
        "print('---------------------------------------------')\n",
        "print('Thank you')"
      ],
      "execution_count": null,
      "outputs": [
        {
          "output_type": "stream",
          "text": [
            "Here is the First task of Supervised learning is Completed\n",
            "---------------------------------------------\n",
            "Thank you\n"
          ],
          "name": "stdout"
        }
      ]
    }
  ]
}